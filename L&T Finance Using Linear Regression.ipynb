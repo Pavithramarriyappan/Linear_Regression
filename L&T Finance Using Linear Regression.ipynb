{
 "cells": [
  {
   "cell_type": "code",
   "execution_count": 1,
   "id": "fdc69df2",
   "metadata": {},
   "outputs": [],
   "source": [
    "import pandas as pd\n",
    "import numpy as np\n",
    "import matplotlib as mlp\n",
    "import matplotlib.pyplot as plt\n",
    "import seaborn as sns\n",
    "import sklearn as sk\n",
    "%matplotlib inline"
   ]
  },
  {
   "cell_type": "code",
   "execution_count": 2,
   "id": "25e29bc8",
   "metadata": {},
   "outputs": [],
   "source": [
    "lt=pd.read_csv(\"LT_Finance - Linear regression .csv\")"
   ]
  },
  {
   "cell_type": "code",
   "execution_count": 3,
   "id": "c05a0a10",
   "metadata": {},
   "outputs": [
    {
     "data": {
      "text/plain": [
       "(744, 13)"
      ]
     },
     "execution_count": 3,
     "metadata": {},
     "output_type": "execute_result"
    }
   ],
   "source": [
    "lt.shape"
   ]
  },
  {
   "cell_type": "code",
   "execution_count": 4,
   "id": "832a9cba",
   "metadata": {},
   "outputs": [
    {
     "data": {
      "text/html": [
       "<div>\n",
       "<style scoped>\n",
       "    .dataframe tbody tr th:only-of-type {\n",
       "        vertical-align: middle;\n",
       "    }\n",
       "\n",
       "    .dataframe tbody tr th {\n",
       "        vertical-align: top;\n",
       "    }\n",
       "\n",
       "    .dataframe thead th {\n",
       "        text-align: right;\n",
       "    }\n",
       "</style>\n",
       "<table border=\"1\" class=\"dataframe\">\n",
       "  <thead>\n",
       "    <tr style=\"text-align: right;\">\n",
       "      <th></th>\n",
       "      <th>Date</th>\n",
       "      <th>Open Price</th>\n",
       "      <th>High Price</th>\n",
       "      <th>Low Price</th>\n",
       "      <th>Close Price</th>\n",
       "      <th>WAP</th>\n",
       "      <th>No.of Shares</th>\n",
       "      <th>No. of Trades</th>\n",
       "      <th>Total Turnover (Rs.)</th>\n",
       "      <th>Deliverable Quantity</th>\n",
       "      <th>% Deli. Qty to Traded Qty</th>\n",
       "      <th>Spread High-Low</th>\n",
       "      <th>Spread Close-Open</th>\n",
       "    </tr>\n",
       "  </thead>\n",
       "  <tbody>\n",
       "    <tr>\n",
       "      <th>0</th>\n",
       "      <td>4-February-2020</td>\n",
       "      <td>111.5</td>\n",
       "      <td>114.55</td>\n",
       "      <td>111.45</td>\n",
       "      <td>114.15</td>\n",
       "      <td>113.444247</td>\n",
       "      <td>507614</td>\n",
       "      <td>3232</td>\n",
       "      <td>57585888.0</td>\n",
       "      <td>153199.0</td>\n",
       "      <td>30.18</td>\n",
       "      <td>3.10</td>\n",
       "      <td>2.65</td>\n",
       "    </tr>\n",
       "    <tr>\n",
       "      <th>1</th>\n",
       "      <td>3-February-2020</td>\n",
       "      <td>109.8</td>\n",
       "      <td>113.45</td>\n",
       "      <td>108.25</td>\n",
       "      <td>111.05</td>\n",
       "      <td>110.885149</td>\n",
       "      <td>582592</td>\n",
       "      <td>5341</td>\n",
       "      <td>64600801.0</td>\n",
       "      <td>178957.0</td>\n",
       "      <td>30.72</td>\n",
       "      <td>5.20</td>\n",
       "      <td>1.25</td>\n",
       "    </tr>\n",
       "    <tr>\n",
       "      <th>2</th>\n",
       "      <td>1-February-2020</td>\n",
       "      <td>118.6</td>\n",
       "      <td>118.60</td>\n",
       "      <td>108.20</td>\n",
       "      <td>109.80</td>\n",
       "      <td>114.901732</td>\n",
       "      <td>1444455</td>\n",
       "      <td>8277</td>\n",
       "      <td>165970382.0</td>\n",
       "      <td>832497.0</td>\n",
       "      <td>57.63</td>\n",
       "      <td>10.40</td>\n",
       "      <td>-8.80</td>\n",
       "    </tr>\n",
       "    <tr>\n",
       "      <th>3</th>\n",
       "      <td>31-January-2020</td>\n",
       "      <td>118.0</td>\n",
       "      <td>118.65</td>\n",
       "      <td>114.90</td>\n",
       "      <td>117.15</td>\n",
       "      <td>116.925833</td>\n",
       "      <td>364544</td>\n",
       "      <td>2107</td>\n",
       "      <td>42624611.0</td>\n",
       "      <td>49561.0</td>\n",
       "      <td>13.60</td>\n",
       "      <td>3.75</td>\n",
       "      <td>-0.85</td>\n",
       "    </tr>\n",
       "    <tr>\n",
       "      <th>4</th>\n",
       "      <td>30-January-2020</td>\n",
       "      <td>120.7</td>\n",
       "      <td>120.70</td>\n",
       "      <td>115.70</td>\n",
       "      <td>117.05</td>\n",
       "      <td>117.717349</td>\n",
       "      <td>1136917</td>\n",
       "      <td>7191</td>\n",
       "      <td>133834855.0</td>\n",
       "      <td>759176.0</td>\n",
       "      <td>66.77</td>\n",
       "      <td>5.00</td>\n",
       "      <td>-3.65</td>\n",
       "    </tr>\n",
       "  </tbody>\n",
       "</table>\n",
       "</div>"
      ],
      "text/plain": [
       "              Date  Open Price  High Price  Low Price  Close Price  \\\n",
       "0  4-February-2020       111.5      114.55     111.45       114.15   \n",
       "1  3-February-2020       109.8      113.45     108.25       111.05   \n",
       "2  1-February-2020       118.6      118.60     108.20       109.80   \n",
       "3  31-January-2020       118.0      118.65     114.90       117.15   \n",
       "4  30-January-2020       120.7      120.70     115.70       117.05   \n",
       "\n",
       "          WAP  No.of Shares  No. of Trades  Total Turnover (Rs.)  \\\n",
       "0  113.444247        507614           3232            57585888.0   \n",
       "1  110.885149        582592           5341            64600801.0   \n",
       "2  114.901732       1444455           8277           165970382.0   \n",
       "3  116.925833        364544           2107            42624611.0   \n",
       "4  117.717349       1136917           7191           133834855.0   \n",
       "\n",
       "   Deliverable Quantity  % Deli. Qty to Traded Qty  Spread High-Low  \\\n",
       "0              153199.0                      30.18             3.10   \n",
       "1              178957.0                      30.72             5.20   \n",
       "2              832497.0                      57.63            10.40   \n",
       "3               49561.0                      13.60             3.75   \n",
       "4              759176.0                      66.77             5.00   \n",
       "\n",
       "   Spread Close-Open  \n",
       "0               2.65  \n",
       "1               1.25  \n",
       "2              -8.80  \n",
       "3              -0.85  \n",
       "4              -3.65  "
      ]
     },
     "execution_count": 4,
     "metadata": {},
     "output_type": "execute_result"
    }
   ],
   "source": [
    "lt.head()"
   ]
  },
  {
   "cell_type": "code",
   "execution_count": 5,
   "id": "4df9c13b",
   "metadata": {},
   "outputs": [
    {
     "data": {
      "text/plain": [
       "Date                          object\n",
       "Open Price                   float64\n",
       "High Price                   float64\n",
       "Low Price                    float64\n",
       "Close Price                  float64\n",
       "WAP                          float64\n",
       "No.of Shares                   int64\n",
       "No. of Trades                  int64\n",
       "Total Turnover (Rs.)         float64\n",
       "Deliverable Quantity         float64\n",
       "% Deli. Qty to Traded Qty    float64\n",
       "Spread High-Low              float64\n",
       "Spread Close-Open            float64\n",
       "dtype: object"
      ]
     },
     "execution_count": 5,
     "metadata": {},
     "output_type": "execute_result"
    }
   ],
   "source": [
    "lt.dtypes"
   ]
  },
  {
   "cell_type": "code",
   "execution_count": 6,
   "id": "7b62dd7a",
   "metadata": {},
   "outputs": [
    {
     "data": {
      "text/html": [
       "<div>\n",
       "<style scoped>\n",
       "    .dataframe tbody tr th:only-of-type {\n",
       "        vertical-align: middle;\n",
       "    }\n",
       "\n",
       "    .dataframe tbody tr th {\n",
       "        vertical-align: top;\n",
       "    }\n",
       "\n",
       "    .dataframe thead th {\n",
       "        text-align: right;\n",
       "    }\n",
       "</style>\n",
       "<table border=\"1\" class=\"dataframe\">\n",
       "  <thead>\n",
       "    <tr style=\"text-align: right;\">\n",
       "      <th></th>\n",
       "      <th>Open Price</th>\n",
       "      <th>High Price</th>\n",
       "      <th>Low Price</th>\n",
       "      <th>Close Price</th>\n",
       "      <th>WAP</th>\n",
       "      <th>No.of Shares</th>\n",
       "      <th>No. of Trades</th>\n",
       "      <th>Total Turnover (Rs.)</th>\n",
       "      <th>Deliverable Quantity</th>\n",
       "      <th>% Deli. Qty to Traded Qty</th>\n",
       "      <th>Spread High-Low</th>\n",
       "      <th>Spread Close-Open</th>\n",
       "    </tr>\n",
       "  </thead>\n",
       "  <tbody>\n",
       "    <tr>\n",
       "      <th>count</th>\n",
       "      <td>744.000000</td>\n",
       "      <td>744.000000</td>\n",
       "      <td>744.000000</td>\n",
       "      <td>744.000000</td>\n",
       "      <td>744.000000</td>\n",
       "      <td>7.440000e+02</td>\n",
       "      <td>744.000000</td>\n",
       "      <td>7.440000e+02</td>\n",
       "      <td>7.430000e+02</td>\n",
       "      <td>743.000000</td>\n",
       "      <td>744.000000</td>\n",
       "      <td>744.000000</td>\n",
       "    </tr>\n",
       "    <tr>\n",
       "      <th>mean</th>\n",
       "      <td>143.307661</td>\n",
       "      <td>145.615927</td>\n",
       "      <td>140.714516</td>\n",
       "      <td>143.005175</td>\n",
       "      <td>143.180103</td>\n",
       "      <td>7.526360e+05</td>\n",
       "      <td>3924.528226</td>\n",
       "      <td>1.053296e+08</td>\n",
       "      <td>2.041221e+05</td>\n",
       "      <td>26.901992</td>\n",
       "      <td>4.901411</td>\n",
       "      <td>-0.302487</td>\n",
       "    </tr>\n",
       "    <tr>\n",
       "      <th>std</th>\n",
       "      <td>30.167874</td>\n",
       "      <td>30.490160</td>\n",
       "      <td>29.968777</td>\n",
       "      <td>30.166167</td>\n",
       "      <td>30.229996</td>\n",
       "      <td>7.593135e+05</td>\n",
       "      <td>2870.452860</td>\n",
       "      <td>1.179880e+08</td>\n",
       "      <td>3.809271e+05</td>\n",
       "      <td>11.657141</td>\n",
       "      <td>2.598925</td>\n",
       "      <td>3.247310</td>\n",
       "    </tr>\n",
       "    <tr>\n",
       "      <th>min</th>\n",
       "      <td>79.700000</td>\n",
       "      <td>82.100000</td>\n",
       "      <td>78.600000</td>\n",
       "      <td>80.200000</td>\n",
       "      <td>80.284178</td>\n",
       "      <td>9.586600e+04</td>\n",
       "      <td>900.000000</td>\n",
       "      <td>8.593931e+06</td>\n",
       "      <td>2.823400e+04</td>\n",
       "      <td>1.680000</td>\n",
       "      <td>1.250000</td>\n",
       "      <td>-16.250000</td>\n",
       "    </tr>\n",
       "    <tr>\n",
       "      <th>25%</th>\n",
       "      <td>120.875000</td>\n",
       "      <td>122.775000</td>\n",
       "      <td>118.912500</td>\n",
       "      <td>120.700000</td>\n",
       "      <td>120.800636</td>\n",
       "      <td>3.696748e+05</td>\n",
       "      <td>2200.000000</td>\n",
       "      <td>5.173813e+07</td>\n",
       "      <td>9.152400e+04</td>\n",
       "      <td>19.340000</td>\n",
       "      <td>3.200000</td>\n",
       "      <td>-2.050000</td>\n",
       "    </tr>\n",
       "    <tr>\n",
       "      <th>50%</th>\n",
       "      <td>141.450000</td>\n",
       "      <td>143.800000</td>\n",
       "      <td>138.275000</td>\n",
       "      <td>140.850000</td>\n",
       "      <td>140.934889</td>\n",
       "      <td>5.576380e+05</td>\n",
       "      <td>3040.000000</td>\n",
       "      <td>7.777949e+07</td>\n",
       "      <td>1.311990e+05</td>\n",
       "      <td>25.310000</td>\n",
       "      <td>4.300000</td>\n",
       "      <td>-0.375000</td>\n",
       "    </tr>\n",
       "    <tr>\n",
       "      <th>75%</th>\n",
       "      <td>168.000000</td>\n",
       "      <td>170.350000</td>\n",
       "      <td>165.012500</td>\n",
       "      <td>167.712500</td>\n",
       "      <td>167.867431</td>\n",
       "      <td>8.742610e+05</td>\n",
       "      <td>4661.500000</td>\n",
       "      <td>1.172144e+08</td>\n",
       "      <td>1.995155e+05</td>\n",
       "      <td>32.130000</td>\n",
       "      <td>5.950000</td>\n",
       "      <td>1.662500</td>\n",
       "    </tr>\n",
       "    <tr>\n",
       "      <th>max</th>\n",
       "      <td>212.500000</td>\n",
       "      <td>213.600000</td>\n",
       "      <td>208.600000</td>\n",
       "      <td>211.100000</td>\n",
       "      <td>211.239578</td>\n",
       "      <td>1.234311e+07</td>\n",
       "      <td>31813.000000</td>\n",
       "      <td>2.242871e+09</td>\n",
       "      <td>5.713213e+06</td>\n",
       "      <td>94.120000</td>\n",
       "      <td>29.250000</td>\n",
       "      <td>12.750000</td>\n",
       "    </tr>\n",
       "  </tbody>\n",
       "</table>\n",
       "</div>"
      ],
      "text/plain": [
       "       Open Price  High Price   Low Price  Close Price         WAP  \\\n",
       "count  744.000000  744.000000  744.000000   744.000000  744.000000   \n",
       "mean   143.307661  145.615927  140.714516   143.005175  143.180103   \n",
       "std     30.167874   30.490160   29.968777    30.166167   30.229996   \n",
       "min     79.700000   82.100000   78.600000    80.200000   80.284178   \n",
       "25%    120.875000  122.775000  118.912500   120.700000  120.800636   \n",
       "50%    141.450000  143.800000  138.275000   140.850000  140.934889   \n",
       "75%    168.000000  170.350000  165.012500   167.712500  167.867431   \n",
       "max    212.500000  213.600000  208.600000   211.100000  211.239578   \n",
       "\n",
       "       No.of Shares  No. of Trades  Total Turnover (Rs.)  \\\n",
       "count  7.440000e+02     744.000000          7.440000e+02   \n",
       "mean   7.526360e+05    3924.528226          1.053296e+08   \n",
       "std    7.593135e+05    2870.452860          1.179880e+08   \n",
       "min    9.586600e+04     900.000000          8.593931e+06   \n",
       "25%    3.696748e+05    2200.000000          5.173813e+07   \n",
       "50%    5.576380e+05    3040.000000          7.777949e+07   \n",
       "75%    8.742610e+05    4661.500000          1.172144e+08   \n",
       "max    1.234311e+07   31813.000000          2.242871e+09   \n",
       "\n",
       "       Deliverable Quantity  % Deli. Qty to Traded Qty  Spread High-Low  \\\n",
       "count          7.430000e+02                 743.000000       744.000000   \n",
       "mean           2.041221e+05                  26.901992         4.901411   \n",
       "std            3.809271e+05                  11.657141         2.598925   \n",
       "min            2.823400e+04                   1.680000         1.250000   \n",
       "25%            9.152400e+04                  19.340000         3.200000   \n",
       "50%            1.311990e+05                  25.310000         4.300000   \n",
       "75%            1.995155e+05                  32.130000         5.950000   \n",
       "max            5.713213e+06                  94.120000        29.250000   \n",
       "\n",
       "       Spread Close-Open  \n",
       "count         744.000000  \n",
       "mean           -0.302487  \n",
       "std             3.247310  \n",
       "min           -16.250000  \n",
       "25%            -2.050000  \n",
       "50%            -0.375000  \n",
       "75%             1.662500  \n",
       "max            12.750000  "
      ]
     },
     "execution_count": 6,
     "metadata": {},
     "output_type": "execute_result"
    }
   ],
   "source": [
    "lt.describe()"
   ]
  },
  {
   "cell_type": "code",
   "execution_count": 7,
   "id": "c404a2b9",
   "metadata": {},
   "outputs": [
    {
     "name": "stdout",
     "output_type": "stream",
     "text": [
      "<class 'pandas.core.frame.DataFrame'>\n",
      "RangeIndex: 744 entries, 0 to 743\n",
      "Data columns (total 13 columns):\n",
      " #   Column                     Non-Null Count  Dtype  \n",
      "---  ------                     --------------  -----  \n",
      " 0   Date                       744 non-null    object \n",
      " 1   Open Price                 744 non-null    float64\n",
      " 2   High Price                 744 non-null    float64\n",
      " 3   Low Price                  744 non-null    float64\n",
      " 4   Close Price                744 non-null    float64\n",
      " 5   WAP                        744 non-null    float64\n",
      " 6   No.of Shares               744 non-null    int64  \n",
      " 7   No. of Trades              744 non-null    int64  \n",
      " 8   Total Turnover (Rs.)       744 non-null    float64\n",
      " 9   Deliverable Quantity       743 non-null    float64\n",
      " 10  % Deli. Qty to Traded Qty  743 non-null    float64\n",
      " 11  Spread High-Low            744 non-null    float64\n",
      " 12  Spread Close-Open          744 non-null    float64\n",
      "dtypes: float64(10), int64(2), object(1)\n",
      "memory usage: 75.7+ KB\n"
     ]
    }
   ],
   "source": [
    "lt.info()"
   ]
  },
  {
   "cell_type": "code",
   "execution_count": 8,
   "id": "cb0b2291",
   "metadata": {},
   "outputs": [
    {
     "data": {
      "text/plain": [
       "Date                         0\n",
       "Open Price                   0\n",
       "High Price                   0\n",
       "Low Price                    0\n",
       "Close Price                  0\n",
       "WAP                          0\n",
       "No.of Shares                 0\n",
       "No. of Trades                0\n",
       "Total Turnover (Rs.)         0\n",
       "Deliverable Quantity         1\n",
       "% Deli. Qty to Traded Qty    1\n",
       "Spread High-Low              0\n",
       "Spread Close-Open            0\n",
       "dtype: int64"
      ]
     },
     "execution_count": 8,
     "metadata": {},
     "output_type": "execute_result"
    }
   ],
   "source": [
    "lt.isnull().sum()"
   ]
  },
  {
   "cell_type": "code",
   "execution_count": 9,
   "id": "6c8181a2",
   "metadata": {},
   "outputs": [
    {
     "data": {
      "text/html": [
       "<div>\n",
       "<style scoped>\n",
       "    .dataframe tbody tr th:only-of-type {\n",
       "        vertical-align: middle;\n",
       "    }\n",
       "\n",
       "    .dataframe tbody tr th {\n",
       "        vertical-align: top;\n",
       "    }\n",
       "\n",
       "    .dataframe thead th {\n",
       "        text-align: right;\n",
       "    }\n",
       "</style>\n",
       "<table border=\"1\" class=\"dataframe\">\n",
       "  <thead>\n",
       "    <tr style=\"text-align: right;\">\n",
       "      <th></th>\n",
       "      <th>Date</th>\n",
       "      <th>Open Price</th>\n",
       "      <th>High Price</th>\n",
       "      <th>Low Price</th>\n",
       "      <th>Close Price</th>\n",
       "      <th>WAP</th>\n",
       "      <th>No.of Shares</th>\n",
       "      <th>No. of Trades</th>\n",
       "      <th>Total Turnover (Rs.)</th>\n",
       "      <th>Deliverable Quantity</th>\n",
       "      <th>% Deli. Qty to Traded Qty</th>\n",
       "      <th>Spread High-Low</th>\n",
       "      <th>Spread Close-Open</th>\n",
       "    </tr>\n",
       "  </thead>\n",
       "  <tbody>\n",
       "    <tr>\n",
       "      <th>196</th>\n",
       "      <td>18-April-2019</td>\n",
       "      <td>149.05</td>\n",
       "      <td>150.75</td>\n",
       "      <td>145.05</td>\n",
       "      <td>146.15</td>\n",
       "      <td>146.932494</td>\n",
       "      <td>352132</td>\n",
       "      <td>1743</td>\n",
       "      <td>51739633.0</td>\n",
       "      <td>84593.0</td>\n",
       "      <td>24.02</td>\n",
       "      <td>5.70</td>\n",
       "      <td>-2.90</td>\n",
       "    </tr>\n",
       "    <tr>\n",
       "      <th>242</th>\n",
       "      <td>8-February-2019</td>\n",
       "      <td>133.00</td>\n",
       "      <td>134.20</td>\n",
       "      <td>128.25</td>\n",
       "      <td>128.85</td>\n",
       "      <td>129.896220</td>\n",
       "      <td>1053846</td>\n",
       "      <td>4296</td>\n",
       "      <td>136890612.0</td>\n",
       "      <td>128749.0</td>\n",
       "      <td>12.22</td>\n",
       "      <td>5.95</td>\n",
       "      <td>-4.15</td>\n",
       "    </tr>\n",
       "    <tr>\n",
       "      <th>433</th>\n",
       "      <td>4-May-2018</td>\n",
       "      <td>175.80</td>\n",
       "      <td>180.00</td>\n",
       "      <td>173.75</td>\n",
       "      <td>176.25</td>\n",
       "      <td>177.481468</td>\n",
       "      <td>1162039</td>\n",
       "      <td>8936</td>\n",
       "      <td>206240388.0</td>\n",
       "      <td>243884.0</td>\n",
       "      <td>20.99</td>\n",
       "      <td>6.25</td>\n",
       "      <td>0.45</td>\n",
       "    </tr>\n",
       "    <tr>\n",
       "      <th>685</th>\n",
       "      <td>28-April-2017</td>\n",
       "      <td>127.95</td>\n",
       "      <td>128.10</td>\n",
       "      <td>126.50</td>\n",
       "      <td>127.25</td>\n",
       "      <td>127.255170</td>\n",
       "      <td>202324</td>\n",
       "      <td>1607</td>\n",
       "      <td>25746775.0</td>\n",
       "      <td>66900.0</td>\n",
       "      <td>33.07</td>\n",
       "      <td>1.60</td>\n",
       "      <td>-0.70</td>\n",
       "    </tr>\n",
       "    <tr>\n",
       "      <th>290</th>\n",
       "      <td>3-December-2018</td>\n",
       "      <td>145.45</td>\n",
       "      <td>145.70</td>\n",
       "      <td>143.15</td>\n",
       "      <td>144.10</td>\n",
       "      <td>144.039265</td>\n",
       "      <td>420376</td>\n",
       "      <td>2190</td>\n",
       "      <td>60550650.0</td>\n",
       "      <td>84842.0</td>\n",
       "      <td>20.18</td>\n",
       "      <td>2.55</td>\n",
       "      <td>-1.35</td>\n",
       "    </tr>\n",
       "  </tbody>\n",
       "</table>\n",
       "</div>"
      ],
      "text/plain": [
       "                Date  Open Price  High Price  Low Price  Close Price  \\\n",
       "196    18-April-2019      149.05      150.75     145.05       146.15   \n",
       "242  8-February-2019      133.00      134.20     128.25       128.85   \n",
       "433       4-May-2018      175.80      180.00     173.75       176.25   \n",
       "685    28-April-2017      127.95      128.10     126.50       127.25   \n",
       "290  3-December-2018      145.45      145.70     143.15       144.10   \n",
       "\n",
       "            WAP  No.of Shares  No. of Trades  Total Turnover (Rs.)  \\\n",
       "196  146.932494        352132           1743            51739633.0   \n",
       "242  129.896220       1053846           4296           136890612.0   \n",
       "433  177.481468       1162039           8936           206240388.0   \n",
       "685  127.255170        202324           1607            25746775.0   \n",
       "290  144.039265        420376           2190            60550650.0   \n",
       "\n",
       "     Deliverable Quantity  % Deli. Qty to Traded Qty  Spread High-Low  \\\n",
       "196               84593.0                      24.02             5.70   \n",
       "242              128749.0                      12.22             5.95   \n",
       "433              243884.0                      20.99             6.25   \n",
       "685               66900.0                      33.07             1.60   \n",
       "290               84842.0                      20.18             2.55   \n",
       "\n",
       "     Spread Close-Open  \n",
       "196              -2.90  \n",
       "242              -4.15  \n",
       "433               0.45  \n",
       "685              -0.70  \n",
       "290              -1.35  "
      ]
     },
     "execution_count": 9,
     "metadata": {},
     "output_type": "execute_result"
    }
   ],
   "source": [
    "lt.sample(5)"
   ]
  },
  {
   "cell_type": "code",
   "execution_count": 10,
   "id": "8d4940ab",
   "metadata": {},
   "outputs": [],
   "source": [
    "for i in ['Deliverable Quantity']:\n",
    "    lt[i].fillna(method='ffill',inplace=True)"
   ]
  },
  {
   "cell_type": "code",
   "execution_count": 11,
   "id": "28b27a82",
   "metadata": {},
   "outputs": [
    {
     "data": {
      "text/plain": [
       "0"
      ]
     },
     "execution_count": 11,
     "metadata": {},
     "output_type": "execute_result"
    }
   ],
   "source": [
    "lt['Deliverable Quantity'].isnull().sum()"
   ]
  },
  {
   "cell_type": "code",
   "execution_count": 12,
   "id": "6878c611",
   "metadata": {},
   "outputs": [],
   "source": [
    "lt.rename(columns={'% Deli. Qty to Traded Qty':'Percentage Qty to Traded Qty'},inplace=True)"
   ]
  },
  {
   "cell_type": "code",
   "execution_count": 13,
   "id": "b035ab99",
   "metadata": {},
   "outputs": [
    {
     "data": {
      "text/plain": [
       "Index(['Date', 'Open Price', 'High Price', 'Low Price', 'Close Price', 'WAP',\n",
       "       'No.of Shares', 'No. of Trades', 'Total Turnover (Rs.)',\n",
       "       'Deliverable Quantity', 'Percentage Qty to Traded Qty',\n",
       "       'Spread High-Low', 'Spread Close-Open'],\n",
       "      dtype='object')"
      ]
     },
     "execution_count": 13,
     "metadata": {},
     "output_type": "execute_result"
    }
   ],
   "source": [
    "lt.columns"
   ]
  },
  {
   "cell_type": "code",
   "execution_count": 14,
   "id": "ad0996ed",
   "metadata": {},
   "outputs": [
    {
     "data": {
      "text/plain": [
       "Date                            0\n",
       "Open Price                      0\n",
       "High Price                      0\n",
       "Low Price                       0\n",
       "Close Price                     0\n",
       "WAP                             0\n",
       "No.of Shares                    0\n",
       "No. of Trades                   0\n",
       "Total Turnover (Rs.)            0\n",
       "Deliverable Quantity            0\n",
       "Percentage Qty to Traded Qty    1\n",
       "Spread High-Low                 0\n",
       "Spread Close-Open               0\n",
       "dtype: int64"
      ]
     },
     "execution_count": 14,
     "metadata": {},
     "output_type": "execute_result"
    }
   ],
   "source": [
    "lt.isnull().sum()"
   ]
  },
  {
   "cell_type": "code",
   "execution_count": 15,
   "id": "011d1c79",
   "metadata": {},
   "outputs": [
    {
     "data": {
      "text/plain": [
       "0      30.18\n",
       "1      30.72\n",
       "2      57.63\n",
       "3      13.60\n",
       "4      66.77\n",
       "       ...  \n",
       "739    24.43\n",
       "740    31.96\n",
       "741    30.18\n",
       "742    24.89\n",
       "743    27.55\n",
       "Name: Percentage Qty to Traded Qty, Length: 744, dtype: float64"
      ]
     },
     "execution_count": 15,
     "metadata": {},
     "output_type": "execute_result"
    }
   ],
   "source": [
    "lt['Percentage Qty to Traded Qty'].fillna(method='ffill')"
   ]
  },
  {
   "cell_type": "code",
   "execution_count": 16,
   "id": "f2ba24c7",
   "metadata": {},
   "outputs": [],
   "source": [
    "lt['Percentage Qty to Traded Qty'].replace(to_replace=np.NaN,value=lt['Percentage Qty to Traded Qty'].mean(),inplace=True)"
   ]
  },
  {
   "cell_type": "code",
   "execution_count": 17,
   "id": "bde640e1",
   "metadata": {},
   "outputs": [
    {
     "data": {
      "text/plain": [
       "0"
      ]
     },
     "execution_count": 17,
     "metadata": {},
     "output_type": "execute_result"
    }
   ],
   "source": [
    "lt['Percentage Qty to Traded Qty'].isnull().sum()"
   ]
  },
  {
   "cell_type": "code",
   "execution_count": 18,
   "id": "75a27557",
   "metadata": {},
   "outputs": [
    {
     "data": {
      "text/plain": [
       "Date                            0\n",
       "Open Price                      0\n",
       "High Price                      0\n",
       "Low Price                       0\n",
       "Close Price                     0\n",
       "WAP                             0\n",
       "No.of Shares                    0\n",
       "No. of Trades                   0\n",
       "Total Turnover (Rs.)            0\n",
       "Deliverable Quantity            0\n",
       "Percentage Qty to Traded Qty    0\n",
       "Spread High-Low                 0\n",
       "Spread Close-Open               0\n",
       "dtype: int64"
      ]
     },
     "execution_count": 18,
     "metadata": {},
     "output_type": "execute_result"
    }
   ],
   "source": [
    "lt.isnull().sum()"
   ]
  },
  {
   "cell_type": "code",
   "execution_count": 19,
   "id": "4086c49a",
   "metadata": {},
   "outputs": [
    {
     "data": {
      "text/plain": [
       "<Axes: xlabel='Open Price', ylabel='Close Price'>"
      ]
     },
     "execution_count": 19,
     "metadata": {},
     "output_type": "execute_result"
    },
    {
     "data": {
      "image/png": "[encoded data removed]",
      "text/plain": [
       "<Figure size 640x480 with 1 Axes>"
      ]
     },
     "metadata": {},
     "output_type": "display_data"
    }
   ],
   "source": [
    "\n",
    "sns.scatterplot(x=lt['Open Price'],y=lt['Close Price'])"
   ]
  },
  {
   "cell_type": "code",
   "execution_count": 20,
   "id": "dbfa3f33",
   "metadata": {},
   "outputs": [
    {
     "data": {
      "text/plain": [
       "<seaborn.axisgrid.JointGrid at 0x2c01c18e850>"
      ]
     },
     "execution_count": 20,
     "metadata": {},
     "output_type": "execute_result"
    },
    {
     "data": {
      "image/png": "[encoded data removed]",
      "text/plain": [
       "<Figure size 600x600 with 3 Axes>"
      ]
     },
     "metadata": {},
     "output_type": "display_data"
    }
   ],
   "source": [
    "sns.jointplot(x=lt['Total Turnover (Rs.)'],y=lt['Close Price'],hue=lt['Open Price'])"
   ]
  },
  {
   "cell_type": "code",
   "execution_count": 21,
   "id": "8cf708cb",
   "metadata": {},
   "outputs": [
    {
     "data": {
      "text/plain": [
       "<Axes: xlabel='Close Price', ylabel='Count'>"
      ]
     },
     "execution_count": 21,
     "metadata": {},
     "output_type": "execute_result"
    },
    {
     "data": {
      "image/png": "[encoded data removed]",
      "text/plain": [
       "<Figure size 640x480 with 1 Axes>"
      ]
     },
     "metadata": {},
     "output_type": "display_data"
    }
   ],
   "source": [
    "sns.histplot(x=lt['Close Price'])"
   ]
  },
  {
   "cell_type": "code",
   "execution_count": 22,
   "id": "c5d66dc9",
   "metadata": {},
   "outputs": [
    {
     "data": {
      "text/plain": [
       "<Axes: xlabel='Spread Close-Open', ylabel='Spread High-Low'>"
      ]
     },
     "execution_count": 22,
     "metadata": {},
     "output_type": "execute_result"
    },
    {
     "data": {
      "image/png": "[encoded data removed]",
      "text/plain": [
       "<Figure size 640x480 with 1 Axes>"
      ]
     },
     "metadata": {},
     "output_type": "display_data"
    }
   ],
   "source": [
    "sns.scatterplot(y=lt['Spread High-Low'].head(200),x=lt['Spread Close-Open'])"
   ]
  },
  {
   "cell_type": "code",
   "execution_count": 23,
   "id": "4b7b665e",
   "metadata": {},
   "outputs": [],
   "source": [
    "lt['Date']=pd.to_datetime(lt['Date'])"
   ]
  },
  {
   "cell_type": "code",
   "execution_count": 24,
   "id": "106fd3de",
   "metadata": {},
   "outputs": [
    {
     "data": {
      "text/plain": [
       "Date                            datetime64[ns]\n",
       "Open Price                             float64\n",
       "High Price                             float64\n",
       "Low Price                              float64\n",
       "Close Price                            float64\n",
       "WAP                                    float64\n",
       "No.of Shares                             int64\n",
       "No. of Trades                            int64\n",
       "Total Turnover (Rs.)                   float64\n",
       "Deliverable Quantity                   float64\n",
       "Percentage Qty to Traded Qty           float64\n",
       "Spread High-Low                        float64\n",
       "Spread Close-Open                      float64\n",
       "dtype: object"
      ]
     },
     "execution_count": 24,
     "metadata": {},
     "output_type": "execute_result"
    }
   ],
   "source": [
    "lt.dtypes"
   ]
  },
  {
   "cell_type": "code",
   "execution_count": 25,
   "id": "75a784cf",
   "metadata": {},
   "outputs": [
    {
     "data": {
      "text/html": [
       "<div>\n",
       "<style scoped>\n",
       "    .dataframe tbody tr th:only-of-type {\n",
       "        vertical-align: middle;\n",
       "    }\n",
       "\n",
       "    .dataframe tbody tr th {\n",
       "        vertical-align: top;\n",
       "    }\n",
       "\n",
       "    .dataframe thead th {\n",
       "        text-align: right;\n",
       "    }\n",
       "</style>\n",
       "<table border=\"1\" class=\"dataframe\">\n",
       "  <thead>\n",
       "    <tr style=\"text-align: right;\">\n",
       "      <th></th>\n",
       "      <th>Date</th>\n",
       "      <th>Open Price</th>\n",
       "      <th>High Price</th>\n",
       "      <th>Low Price</th>\n",
       "      <th>Close Price</th>\n",
       "      <th>WAP</th>\n",
       "      <th>No.of Shares</th>\n",
       "      <th>No. of Trades</th>\n",
       "      <th>Total Turnover (Rs.)</th>\n",
       "      <th>Deliverable Quantity</th>\n",
       "      <th>Percentage Qty to Traded Qty</th>\n",
       "      <th>Spread High-Low</th>\n",
       "      <th>Spread Close-Open</th>\n",
       "    </tr>\n",
       "  </thead>\n",
       "  <tbody>\n",
       "    <tr>\n",
       "      <th>0</th>\n",
       "      <td>2020-02-04</td>\n",
       "      <td>111.5</td>\n",
       "      <td>114.55</td>\n",
       "      <td>111.45</td>\n",
       "      <td>114.15</td>\n",
       "      <td>113.444247</td>\n",
       "      <td>507614</td>\n",
       "      <td>3232</td>\n",
       "      <td>57585888.0</td>\n",
       "      <td>153199.0</td>\n",
       "      <td>30.18</td>\n",
       "      <td>3.1</td>\n",
       "      <td>2.65</td>\n",
       "    </tr>\n",
       "    <tr>\n",
       "      <th>1</th>\n",
       "      <td>2020-02-03</td>\n",
       "      <td>109.8</td>\n",
       "      <td>113.45</td>\n",
       "      <td>108.25</td>\n",
       "      <td>111.05</td>\n",
       "      <td>110.885149</td>\n",
       "      <td>582592</td>\n",
       "      <td>5341</td>\n",
       "      <td>64600801.0</td>\n",
       "      <td>178957.0</td>\n",
       "      <td>30.72</td>\n",
       "      <td>5.2</td>\n",
       "      <td>1.25</td>\n",
       "    </tr>\n",
       "  </tbody>\n",
       "</table>\n",
       "</div>"
      ],
      "text/plain": [
       "        Date  Open Price  High Price  Low Price  Close Price         WAP  \\\n",
       "0 2020-02-04       111.5      114.55     111.45       114.15  113.444247   \n",
       "1 2020-02-03       109.8      113.45     108.25       111.05  110.885149   \n",
       "\n",
       "   No.of Shares  No. of Trades  Total Turnover (Rs.)  Deliverable Quantity  \\\n",
       "0        507614           3232            57585888.0              153199.0   \n",
       "1        582592           5341            64600801.0              178957.0   \n",
       "\n",
       "   Percentage Qty to Traded Qty  Spread High-Low  Spread Close-Open  \n",
       "0                         30.18              3.1               2.65  \n",
       "1                         30.72              5.2               1.25  "
      ]
     },
     "execution_count": 25,
     "metadata": {},
     "output_type": "execute_result"
    }
   ],
   "source": [
    "lt.head(2)"
   ]
  },
  {
   "cell_type": "code",
   "execution_count": 26,
   "id": "8391d18c",
   "metadata": {},
   "outputs": [],
   "source": [
    "lt['month']=lt['Date'].dt.month"
   ]
  },
  {
   "cell_type": "code",
   "execution_count": 31,
   "id": "c211b31c",
   "metadata": {},
   "outputs": [],
   "source": [
    "lt['day']=lt['Date'].dt.day"
   ]
  },
  {
   "cell_type": "code",
   "execution_count": 32,
   "id": "0ebad3ab",
   "metadata": {},
   "outputs": [],
   "source": [
    "lt['year']=lt['Date'].dt.year"
   ]
  },
  {
   "cell_type": "code",
   "execution_count": 33,
   "id": "c51b6061",
   "metadata": {},
   "outputs": [
    {
     "data": {
      "text/html": [
       "<div>\n",
       "<style scoped>\n",
       "    .dataframe tbody tr th:only-of-type {\n",
       "        vertical-align: middle;\n",
       "    }\n",
       "\n",
       "    .dataframe tbody tr th {\n",
       "        vertical-align: top;\n",
       "    }\n",
       "\n",
       "    .dataframe thead th {\n",
       "        text-align: right;\n",
       "    }\n",
       "</style>\n",
       "<table border=\"1\" class=\"dataframe\">\n",
       "  <thead>\n",
       "    <tr style=\"text-align: right;\">\n",
       "      <th></th>\n",
       "      <th>Date</th>\n",
       "      <th>Open Price</th>\n",
       "      <th>High Price</th>\n",
       "      <th>Low Price</th>\n",
       "      <th>Close Price</th>\n",
       "      <th>WAP</th>\n",
       "      <th>No.of Shares</th>\n",
       "      <th>No. of Trades</th>\n",
       "      <th>Total Turnover (Rs.)</th>\n",
       "      <th>Deliverable Quantity</th>\n",
       "      <th>Percentage Qty to Traded Qty</th>\n",
       "      <th>Spread High-Low</th>\n",
       "      <th>Spread Close-Open</th>\n",
       "      <th>month</th>\n",
       "      <th>day</th>\n",
       "      <th>year</th>\n",
       "    </tr>\n",
       "  </thead>\n",
       "  <tbody>\n",
       "    <tr>\n",
       "      <th>0</th>\n",
       "      <td>2020-02-04</td>\n",
       "      <td>111.5</td>\n",
       "      <td>114.55</td>\n",
       "      <td>111.45</td>\n",
       "      <td>114.15</td>\n",
       "      <td>113.444247</td>\n",
       "      <td>507614</td>\n",
       "      <td>3232</td>\n",
       "      <td>57585888.0</td>\n",
       "      <td>153199.0</td>\n",
       "      <td>30.18</td>\n",
       "      <td>3.1</td>\n",
       "      <td>2.65</td>\n",
       "      <td>2</td>\n",
       "      <td>4</td>\n",
       "      <td>2020</td>\n",
       "    </tr>\n",
       "    <tr>\n",
       "      <th>1</th>\n",
       "      <td>2020-02-03</td>\n",
       "      <td>109.8</td>\n",
       "      <td>113.45</td>\n",
       "      <td>108.25</td>\n",
       "      <td>111.05</td>\n",
       "      <td>110.885149</td>\n",
       "      <td>582592</td>\n",
       "      <td>5341</td>\n",
       "      <td>64600801.0</td>\n",
       "      <td>178957.0</td>\n",
       "      <td>30.72</td>\n",
       "      <td>5.2</td>\n",
       "      <td>1.25</td>\n",
       "      <td>2</td>\n",
       "      <td>3</td>\n",
       "      <td>2020</td>\n",
       "    </tr>\n",
       "    <tr>\n",
       "      <th>2</th>\n",
       "      <td>2020-02-01</td>\n",
       "      <td>118.6</td>\n",
       "      <td>118.60</td>\n",
       "      <td>108.20</td>\n",
       "      <td>109.80</td>\n",
       "      <td>114.901732</td>\n",
       "      <td>1444455</td>\n",
       "      <td>8277</td>\n",
       "      <td>165970382.0</td>\n",
       "      <td>832497.0</td>\n",
       "      <td>57.63</td>\n",
       "      <td>10.4</td>\n",
       "      <td>-8.80</td>\n",
       "      <td>2</td>\n",
       "      <td>1</td>\n",
       "      <td>2020</td>\n",
       "    </tr>\n",
       "  </tbody>\n",
       "</table>\n",
       "</div>"
      ],
      "text/plain": [
       "        Date  Open Price  High Price  Low Price  Close Price         WAP  \\\n",
       "0 2020-02-04       111.5      114.55     111.45       114.15  113.444247   \n",
       "1 2020-02-03       109.8      113.45     108.25       111.05  110.885149   \n",
       "2 2020-02-01       118.6      118.60     108.20       109.80  114.901732   \n",
       "\n",
       "   No.of Shares  No. of Trades  Total Turnover (Rs.)  Deliverable Quantity  \\\n",
       "0        507614           3232            57585888.0              153199.0   \n",
       "1        582592           5341            64600801.0              178957.0   \n",
       "2       1444455           8277           165970382.0              832497.0   \n",
       "\n",
       "   Percentage Qty to Traded Qty  Spread High-Low  Spread Close-Open  month  \\\n",
       "0                         30.18              3.1               2.65      2   \n",
       "1                         30.72              5.2               1.25      2   \n",
       "2                         57.63             10.4              -8.80      2   \n",
       "\n",
       "   day  year  \n",
       "0    4  2020  \n",
       "1    3  2020  \n",
       "2    1  2020  "
      ]
     },
     "execution_count": 33,
     "metadata": {},
     "output_type": "execute_result"
    }
   ],
   "source": [
    "lt.head(3)"
   ]
  },
  {
   "cell_type": "code",
   "execution_count": 34,
   "id": "0fe49a67",
   "metadata": {},
   "outputs": [],
   "source": [
    "lt.drop('Date',inplace=True,axis=1)"
   ]
  },
  {
   "cell_type": "code",
   "execution_count": 36,
   "id": "78f2604c",
   "metadata": {},
   "outputs": [
    {
     "data": {
      "text/plain": [
       "Open Price                      0\n",
       "High Price                      0\n",
       "Low Price                       0\n",
       "Close Price                     0\n",
       "WAP                             0\n",
       "No.of Shares                    0\n",
       "No. of Trades                   0\n",
       "Total Turnover (Rs.)            0\n",
       "Deliverable Quantity            0\n",
       "Percentage Qty to Traded Qty    0\n",
       "Spread High-Low                 0\n",
       "Spread Close-Open               0\n",
       "month                           0\n",
       "day                             0\n",
       "year                            0\n",
       "dtype: int64"
      ]
     },
     "execution_count": 36,
     "metadata": {},
     "output_type": "execute_result"
    }
   ],
   "source": [
    "lt.isnull().sum()"
   ]
  },
  {
   "cell_type": "code",
   "execution_count": 37,
   "id": "44ee9653",
   "metadata": {},
   "outputs": [
    {
     "data": {
      "text/plain": [
       "Open Price                      float64\n",
       "High Price                      float64\n",
       "Low Price                       float64\n",
       "Close Price                     float64\n",
       "WAP                             float64\n",
       "No.of Shares                      int64\n",
       "No. of Trades                     int64\n",
       "Total Turnover (Rs.)            float64\n",
       "Deliverable Quantity            float64\n",
       "Percentage Qty to Traded Qty    float64\n",
       "Spread High-Low                 float64\n",
       "Spread Close-Open               float64\n",
       "month                             int64\n",
       "day                               int64\n",
       "year                              int64\n",
       "dtype: object"
      ]
     },
     "execution_count": 37,
     "metadata": {},
     "output_type": "execute_result"
    }
   ],
   "source": [
    "lt.dtypes"
   ]
  },
  {
   "cell_type": "code",
   "execution_count": 38,
   "id": "f6024fe8",
   "metadata": {},
   "outputs": [],
   "source": [
    "x=lt.drop('Close Price',axis=1)"
   ]
  },
  {
   "cell_type": "code",
   "execution_count": 39,
   "id": "4570551c",
   "metadata": {},
   "outputs": [],
   "source": [
    "y=lt['Close Price']"
   ]
  },
  {
   "cell_type": "code",
   "execution_count": 40,
   "id": "dbd373d3",
   "metadata": {},
   "outputs": [],
   "source": [
    "from sklearn.model_selection import train_test_split"
   ]
  },
  {
   "cell_type": "code",
   "execution_count": 41,
   "id": "45686ea6",
   "metadata": {},
   "outputs": [],
   "source": [
    "X_train,X_test,y_train,y_test=train_test_split(x,y,test_size=0.2)"
   ]
  },
  {
   "cell_type": "code",
   "execution_count": 42,
   "id": "3455a848",
   "metadata": {},
   "outputs": [
    {
     "name": "stdout",
     "output_type": "stream",
     "text": [
      "(595, 14)\n",
      "(149, 14)\n",
      "(595,)\n",
      "(149,)\n"
     ]
    }
   ],
   "source": [
    "print(X_train.shape)\n",
    "print(X_test.shape)\n",
    "print(y_train.shape)\n",
    "print(y_test.shape)"
   ]
  },
  {
   "cell_type": "code",
   "execution_count": 45,
   "id": "c6765442",
   "metadata": {},
   "outputs": [
    {
     "name": "stdout",
     "output_type": "stream",
     "text": [
      "score 1.0\n",
      "r2_score: 1.0\n",
      "Mean Squared Error: 2.5850071821449017e-25\n",
      "Mean Absolute Error: 1.6623838770870532e-13\n"
     ]
    }
   ],
   "source": [
    "from sklearn.linear_model import LinearRegression\n",
    "from sklearn.metrics import accuracy_score,r2_score,mean_absolute_error,mean_squared_error\n",
    "lr=LinearRegression()\n",
    "lr.fit(X_train,y_train)\n",
    "y_pred=lr.predict(X_test)\n",
    "print(f'''score {lr.score(X_train,y_train)}''')\n",
    "Rsc=r2_score(y_test,y_pred)\n",
    "mse=mean_squared_error(y_test,y_pred)\n",
    "mae=mean_absolute_error(y_test,y_pred)\n",
    "print(\"r2_score:\",Rsc)\n",
    "print(\"Mean Squared Error:\",mse)\n",
    "print(\"Mean Absolute Error:\",mae)"
   ]
  },
  {
   "cell_type": "code",
   "execution_count": 46,
   "id": "a5d1b101",
   "metadata": {},
   "outputs": [
    {
     "name": "stdout",
     "output_type": "stream",
     "text": [
      "Actual Values: 372    178.35\n",
      "74      86.65\n",
      "64      95.40\n",
      "79      81.65\n",
      "605    173.20\n",
      "Name: Close Price, dtype: float64\n",
      "predicted Values: [178.35  86.65  95.4   81.65 173.2 ]\n"
     ]
    }
   ],
   "source": [
    "actual_value=y_test\n",
    "predicted=y_pred\n",
    "print(\"Actual Values:\",actual_value[:5])\n",
    "print(\"predicted Values:\",predicted[:5])"
   ]
  },
  {
   "cell_type": "code",
   "execution_count": 47,
   "id": "8dc05c7c",
   "metadata": {},
   "outputs": [
    {
     "data": {
      "text/plain": [
       "Text(0.5, 1.0, 'Actual Value Vs Predicated Value')"
      ]
     },
     "execution_count": 47,
     "metadata": {},
     "output_type": "execute_result"
    },
    {
     "data": {
      "image/png": "[encoded data removed]",
      "text/plain": [
       "<Figure size 640x480 with 1 Axes>"
      ]
     },
     "metadata": {},
     "output_type": "display_data"
    }
   ],
   "source": [
    "sns.regplot(x=actual_value,y=predicted)\n",
    "plt.xlabel(\"Actual Value\")\n",
    "plt.ylabel(\"Predicated Value\")\n",
    "plt.title(\"Actual Value Vs Predicated Value\")"
   ]
  },
  {
   "cell_type": "code",
   "execution_count": null,
   "id": "33e63876",
   "metadata": {},
   "outputs": [],
   "source": []
  }
 ],
 "metadata": {
  "kernelspec": {
   "display_name": "Python 3 (ipykernel)",
   "language": "python",
   "name": "python3"
  },
  "language_info": {
   "codemirror_mode": {
    "name": "ipython",
    "version": 3
   },
   "file_extension": ".py",
   "mimetype": "text/x-python",
   "name": "python",
   "nbconvert_exporter": "python",
   "pygments_lexer": "ipython3",
   "version": "3.11.4"
  }
 },
 "nbformat": 4,
 "nbformat_minor": 5
}
